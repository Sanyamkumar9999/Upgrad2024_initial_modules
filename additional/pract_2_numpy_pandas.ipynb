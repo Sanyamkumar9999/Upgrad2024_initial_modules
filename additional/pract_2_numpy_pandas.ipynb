{
 "cells": [
  {
   "cell_type": "code",
   "execution_count": 4,
   "metadata": {},
   "outputs": [
    {
     "name": "stdout",
     "output_type": "stream",
     "text": [
      "[74, 75, 72, 72, 71]\n"
     ]
    }
   ],
   "source": [
    "# Numpy Vs Lists;\n",
    "\n",
    "heights = [74, 75, 72, 72, 71] # heights in inchs\n",
    "print(heights)\n",
    "\n",
    "#print(heights * 2.54) \n",
    "# TypeError: can't multiply sequence by non-int of type 'float'\n",
    "\n",
    "\n"
   ]
  },
  {
   "cell_type": "code",
   "execution_count": 19,
   "metadata": {},
   "outputs": [
    {
     "name": "stdout",
     "output_type": "stream",
     "text": [
      "[187.96 190.5  182.88 182.88 180.34]\n",
      "[1, 3, 9, 1, 5, 4]\n",
      "[ 2  8 13]\n",
      "<class 'numpy.ndarray'>\n",
      "length \n",
      " 5\n",
      "size \n",
      " 5\n",
      "shape \n",
      " (5,)\n",
      "np_heights \n",
      " [74 75 72 72 71]\n",
      "[False False  True  True  True]\n",
      "[72 72 71]\n",
      "3\n",
      "max: 75\n",
      "min: 71\n",
      "avg: 72.8\n"
     ]
    }
   ],
   "source": [
    "#pip install numpy\n",
    "import numpy as np\n",
    "\n",
    "np_heights = np.array(heights)\n",
    "print(np_heights * 2.54) \n",
    "\n",
    "# Numpy coms with own set of oper & methods:\n",
    "\n",
    "list1 = [1,3,9]\n",
    "list2 = [1,5,4]\n",
    "print(list1 + list2)\n",
    "\n",
    "np_l1 = np.array(list1)\n",
    "np_l2 = np.array(list2)\n",
    "\n",
    "print(np_l1 + np_l2)\n",
    "print(type(np_l1))\n",
    "\n",
    "\n",
    "print(\"length\", \"\\n\", len(np_heights))\n",
    "print(\"size\", \"\\n\", np_heights.size)\n",
    "print(\"shape\", \"\\n\", np_heights.shape)\n",
    "\n",
    "# Conditional Sub setting Arrays:\n",
    "\n",
    "print(\"np_heights\", \"\\n\", np_heights)\n",
    "\n",
    "print(np_heights < 73)\n",
    "\n",
    "print(np_heights[np_heights < 73])\n",
    "\n",
    "np_heights1 = np_heights[np_heights < 73]\n",
    "\n",
    "print(np_heights1.size)\n",
    "\n",
    "print(\"max:\", np_heights.max() )\n",
    "print(\"min:\", np_heights.min() )\n",
    "print(\"avg:\", np_heights.mean() )\n",
    "\n",
    "\n"
   ]
  },
  {
   "cell_type": "code",
   "execution_count": 31,
   "metadata": {},
   "outputs": [
    {
     "name": "stdout",
     "output_type": "stream",
     "text": [
      "[1, 2, 3]\n",
      "[3, 5, 4, 6, 7, 8]\n",
      "[2, 5, 7, 4, 3, 1]\n",
      "[1, 3, 4, 7, 5, 2]\n",
      "[2, 5, 6, 8, 3]\n",
      "[False False False False False False False False]\n",
      "[]\n"
     ]
    }
   ],
   "source": [
    "array_1 = [1,2,3,5,4,6,7,8,5,3,2]\n",
    "print(array_1[:3])\n",
    "print(array_1[2:-3])\n",
    "print(array_1[ : : -2])\n",
    "print(array_1[ : : 2])\n",
    "print(array_1[1: : 2])\n",
    "\n",
    "array_2 = [ 1, 5, 9, 12, 15, 7, 12, 9 ]\n",
    "m = 6\n",
    "n = 12\n",
    "\n",
    "array_2_np = np.array(array_2)\n",
    "#print(n < array_2_np < m)\n",
    "print( (array_2_np > n) & (array_2_np < m))\n",
    "final_array = array_2_np[(array_2_np > n) & (array_2_np < m)] \n",
    "print(final_array)\n"
   ]
  },
  {
   "cell_type": "code",
   "execution_count": 65,
   "metadata": {},
   "outputs": [
    {
     "name": "stdout",
     "output_type": "stream",
     "text": [
      "[[ 74 180]\n",
      " [ 74 215]\n",
      " [ 72 210]\n",
      " [ 72 210]\n",
      " [ 73 180]]\n",
      "(5, 2)\n",
      "10\n",
      "2\n",
      "int32\n",
      "4\n",
      "[[ 1.8796  81.64656]\n",
      " [ 1.8796  97.52228]\n",
      " [ 1.8288  95.25432]\n",
      " [ 1.8288  95.25432]\n",
      " [ 1.8542  81.64656]]\n",
      "[ 1.8796  81.64656]\n",
      "81.64656\n",
      "81.64656\n",
      "[1.8796 1.8796 1.8288 1.8288 1.8542]\n",
      "[[ 74 180]\n",
      " [ 74 215]\n",
      " [ 72 210]\n",
      " [ 72 210]\n",
      " [ 73 180]]\n",
      "[[ 1.8796  81.64656]\n",
      " [ 1.8796  97.52228]\n",
      " [ 1.8542  81.64656]]\n",
      "(3, 2)\n",
      "array output on diff arry condition\n",
      "[[ 74 180]\n",
      " [ 74 215]\n",
      " [ 72 210]\n",
      " [ 72 210]\n",
      " [ 73 180]]\n",
      "[[ 74 215]\n",
      " [ 72 210]]\n"
     ]
    }
   ],
   "source": [
    "# Multidimensional Array:\n",
    "\n",
    "# height & weights of players - 2 D \n",
    "players = [(74,180), (74, 215), (72,210), (72,210), (73,180)]  \n",
    "\n",
    "np_players = np.array(players)\n",
    "\n",
    "#print(type(np_players))\n",
    "print((np_players))\n",
    "print(np_players.shape)\n",
    "print(np_players.size)\n",
    "print(np_players.ndim)\n",
    "print(np_players.dtype)\n",
    "print(np_players.itemsize) # item stored in bytes\n",
    "\n",
    "# converting heights to meter & weights to kgs\n",
    "\n",
    "players_conv = np_players * (0.0254, 0.453592)  \n",
    "\n",
    "print(players_conv)\n",
    "\n",
    "print(players_conv[0])       # print row\n",
    "print(players_conv[0][1])\n",
    "print(players_conv[0,1])\n",
    "print(players_conv[:, 0])    # first col\n",
    "\n",
    "print(np_players[ : , :3])\n",
    "\n",
    "# height of players > 1.82\n",
    "\n",
    "print(players_conv[players_conv[:,0]>1.83])\n",
    "print(players_conv[players_conv[:,0]>1.83].shape)\n",
    "\n",
    "# skills\n",
    "\n",
    "skills = np.array([\"keeper\", \"batsman\", \"bowler\", \"batsman\", \"bowler\"])\n",
    "print(\"array output on diff arry condition\")\n",
    "print(np_players)\n",
    "print(np_players[skills == \"batsman\"])"
   ]
  },
  {
   "cell_type": "code",
   "execution_count": 66,
   "metadata": {},
   "outputs": [
    {
     "name": "stdout",
     "output_type": "stream",
     "text": [
      "array output on diff arry condition\n",
      "[[ 74 180]\n",
      " [ 74 215]\n",
      " [ 72 210]\n",
      " [ 72 210]\n",
      " [ 73 180]]\n",
      "[[ 74 215]\n",
      " [ 72 210]]\n",
      "[[11 12 13 14]\n",
      " [21 22 23 24]\n",
      " [31 32 33 34]]\n",
      "[11 21 31] \n",
      " [11 12 13 14] \n",
      " [14 24 34] \n",
      " [31 32 33 34]\n"
     ]
    }
   ],
   "source": [
    "print(\"array output on diff arry condition\")\n",
    "print(np_players)\n",
    "print(np_players[skills == \"batsman\"])\n",
    "\n",
    "array_2d = np.array([[11, 12, 13, 14], [21, 22, 23, 24], [31, 32, 33, 34]])\n",
    "\n",
    "print(array_2d)\n",
    "\n",
    "col_first = array_2d[:,0]\n",
    "row_first = array_2d[0,:]\n",
    "col_last =  array_2d[:,-1]\n",
    "row_last =  array_2d[-1,:]\n",
    "\n",
    "print(col_first, \"\\n\", row_first, \"\\n\", col_last, \"\\n\", row_last)"
   ]
  },
  {
   "cell_type": "code",
   "execution_count": 84,
   "metadata": {},
   "outputs": [
    {
     "name": "stdout",
     "output_type": "stream",
     "text": [
      "[1. 1. 1. 1. 1. 1. 1. 1.]\n",
      "float64\n",
      "[1 1 1 1 1 1 1 1]\n",
      "int32\n",
      "[[1 1 1]\n",
      " [1 1 1]\n",
      " [1 1 1]\n",
      " [1 1 1]\n",
      " [1 1 1]]\n",
      "[0. 0. 0. 0. 0.]\n",
      "[0, 1, 2, 3, 4]\n",
      "[0 1 2]\n",
      "[0. 1. 2.]\n",
      "[ 3  5  7  9 11 13 15 17 19 21 23 25 27 29 31 33]\n",
      "[0 1 0 1 0 1 0 1 1 1]\n",
      "[4 3 4 4 4 3 4 4 3 4]\n",
      "[[0.7975463  0.29772541 0.11670342 0.07258902]\n",
      " [0.2717666  0.81133019 0.69714316 0.28574158]\n",
      " [0.87474046 0.93440661 0.94626678 0.39978043]]\n",
      "[ 1.          1.47368421  1.94736842  2.42105263  2.89473684  3.36842105\n",
      "  3.84210526  4.31578947  4.78947368  5.26315789  5.73684211  6.21052632\n",
      "  6.68421053  7.15789474  7.63157895  8.10526316  8.57894737  9.05263158\n",
      "  9.52631579 10.        ]\n"
     ]
    }
   ],
   "source": [
    "arr = np.ones(8)\n",
    "\n",
    "print(arr)\n",
    "print(arr.dtype)\n",
    "\n",
    "arr = np.ones(8, dtype=int)\n",
    "\n",
    "print(arr)\n",
    "print(arr.dtype)\n",
    "\n",
    "arr2 = np.ones((5,3), dtype=int)\n",
    "print(arr2)\n",
    "\n",
    "print(np.zeros(5))\n",
    "\n",
    "print(list(range(5)))\n",
    "\n",
    "print(np.arange(3))\n",
    "print(np.arange(3.0))\n",
    "\n",
    "print(np.arange(3, 35, 2))\n",
    "\n",
    "print(np.random.randint(2, size=10))  # random number array - upper bound < 2 & size is 10\n",
    "print(np.random.randint(3,5, size=10)) # random number array - lower bound = 3 upper bound < 5 & size is 10\n",
    "\n",
    "print(np.random.random([3,4]))\n",
    "\n",
    "print(np.linspace(1, 10, 20))  # array of size 20, between 1 & 10 numbers"
   ]
  },
  {
   "cell_type": "code",
   "execution_count": 95,
   "metadata": {},
   "outputs": [
    {
     "name": "stdout",
     "output_type": "stream",
     "text": [
      "[[0 0]\n",
      " [0 0]]\n",
      "[[1 1]\n",
      " [1 1]]\n"
     ]
    }
   ],
   "source": [
    "#Given a single integer n, create an (n x n) 2D array with 1 on the border and 0 on the inside.\n",
    "def array_zeros(n):\n",
    "\n",
    "    arr_0 = np.zeros((n,n), dtype=int)\n",
    "    print(arr_0)\n",
    "    arr_0[:,0] = 1\n",
    "    arr_0[:,-1] = 1\n",
    "    arr_0[0,:] = 1\n",
    "    arr_0[-1, :] = 1\n",
    "    print(arr_0)\n",
    "\n",
    "array_zeros(2)"
   ]
  },
  {
   "cell_type": "code",
   "execution_count": 147,
   "metadata": {},
   "outputs": [
    {
     "name": "stdout",
     "output_type": "stream",
     "text": [
      "[10 20 30 40 50] \n",
      " [0 1 2 3 4]\n",
      "[10 21 32 43 54]\n",
      "[0 2 4 6 8]\n",
      "[ 0  1  4  9 16]\n",
      "[ 0  1  8 27 64]\n",
      "[10 20 30 40 50  0  1  2  3  4]\n",
      "[[10 20 30 40 50]\n",
      " [ 0  1  2  3  4]]\n",
      "[ 0  1  2  3  4  5  6  7  8  9 10 11]\n",
      "[[ 0  1  2  3]\n",
      " [ 4  5  6  7]\n",
      " [ 8  9 10 11]]\n",
      "[1 5 3 7 4 9]\n",
      "[[ 1  2  3  4  5]\n",
      " [ 6  7  8  9 10]\n",
      " [11 12 13 14 15]\n",
      " [16 17 18 19 20]]\n",
      "[ 1  3  5  7  9 11 13 15 17 19]\n",
      "[[ 2  4]\n",
      " [ 6  8]\n",
      " [10 12]\n",
      " [14 16]\n",
      " [18 20]]\n",
      "[[ 1  3]\n",
      " [ 5  7]\n",
      " [ 9 11]\n",
      " [13 15]\n",
      " [17 19]]\n",
      "[[1 2]\n",
      " [3 4]\n",
      " [5 6]]\n",
      "(1, 6)\n"
     ]
    }
   ],
   "source": [
    "# mathematics operations on numpy arrays:\n",
    "arr1 = np.array([10,20,30,40,50])\n",
    "arr2 = np.arange(5)\n",
    "\n",
    "print(arr1, \"\\n\", arr2)\n",
    "print(arr1+arr2)\n",
    "print(arr2*2)\n",
    "print(arr2**2)\n",
    "\n",
    "print(np.power(arr2, 3))\n",
    "\n",
    "# Stacking of arrays:\n",
    "#hstack() -- horizantal stacking\n",
    "\n",
    "print(np.hstack([arr1, arr2]))\n",
    "print(np.vstack([arr1, arr2]))\n",
    "\n",
    "#reshape()\n",
    "\n",
    "print(np.arange(12, dtype=int))\n",
    "print(np.arange(12).reshape(3,4))\n",
    "\n",
    "p=np.array([[1, 5],\n",
    " [3, 7],\n",
    " [4, 9]])\n",
    "\n",
    "\n",
    "print(np.reshape(p, -1))\n",
    "\n",
    "q = np.arange(1,21).reshape(4,5)\n",
    "print(q)\n",
    "print(q[q%2 != 0])\n",
    "print(q[q%2 == 0].reshape(5, 2))\n",
    "\n",
    "print(q[q%2 != 0].reshape(5, 2))\n",
    "\n",
    "r = np.arange(1,7).reshape(3,2)\n",
    "\n",
    "print(r)\n",
    "print(np.reshape(r, (1, -1)).shape)"
   ]
  },
  {
   "cell_type": "code",
   "execution_count": 144,
   "metadata": {},
   "outputs": [
    {
     "name": "stdout",
     "output_type": "stream",
     "text": [
      "(4, 3)\n",
      "[[ 7 13 14]\n",
      " [18 10 17]\n",
      " [11 12 19]\n",
      " [16  6  1]]\n",
      "[[5]\n",
      " [8]\n",
      " [4]\n",
      " [3]]\n"
     ]
    },
    {
     "data": {
      "text/plain": [
       "array([[ 7, 13, 14,  5],\n",
       "       [18, 10, 17,  8],\n",
       "       [11, 12, 19,  4],\n",
       "       [16,  6,  1,  3]])"
      ]
     },
     "execution_count": 144,
     "metadata": {},
     "output_type": "execute_result"
    }
   ],
   "source": [
    "l1 = [[7, 13, 14], [18, 10, 17],[11, 12, 19]]\n",
    "np_l1 = np.array(l1)\n",
    "np_l1.shape\n",
    "np_l1\n",
    "\n",
    "l2 = [16, 6, 1]\n",
    "np_l2 = np.array(l2)\n",
    "\n",
    "l3 = [[5, 8, 4, 3]]\n",
    "np_l3 = np.array(l3)\n",
    "\n",
    "np2 = np.vstack([np_l1, np_l2])\n",
    "print(np2.shape)\n",
    "print(np2)\n",
    "\n",
    "print(np_l3.transpose())\n",
    "\n",
    "np.hstack([np2, np_l3.transpose()])\n",
    "\n"
   ]
  },
  {
   "cell_type": "code",
   "execution_count": 148,
   "metadata": {},
   "outputs": [
    {
     "name": "stdout",
     "output_type": "stream",
     "text": [
      "3.141592653589793\n"
     ]
    }
   ],
   "source": [
    "# Trigonometric func:\n",
    "\n",
    "print(np.pi)"
   ]
  }
 ],
 "metadata": {
  "kernelspec": {
   "display_name": "pv3.8venv",
   "language": "python",
   "name": "pv3.8venv"
  },
  "language_info": {
   "codemirror_mode": {
    "name": "ipython",
    "version": 3
   },
   "file_extension": ".py",
   "mimetype": "text/x-python",
   "name": "python",
   "nbconvert_exporter": "python",
   "pygments_lexer": "ipython3",
   "version": "3.8.10"
  }
 },
 "nbformat": 4,
 "nbformat_minor": 2
}
