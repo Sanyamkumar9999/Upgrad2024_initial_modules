{
 "cells": [
  {
   "cell_type": "markdown",
   "metadata": {},
   "source": [
    "# Jupyter in VsCode"
   ]
  },
  {
   "cell_type": "code",
   "execution_count": 8,
   "metadata": {},
   "outputs": [
    {
     "name": "stdout",
     "output_type": "stream",
     "text": [
      "next one\n",
      "Hello  sanyam\n",
      "11.857142857142858\n",
      "10\n",
      "8\n"
     ]
    }
   ],
   "source": [
    "print(\"next one\")\n",
    "\n",
    "name = input(\"Enter you name:\")\n",
    "print(\"Hello \", name)\n",
    "\n",
    "\n",
    "#BEDMAS\n",
    "print(4*5-9+6/7)\n",
    "\n",
    "inc = 9\n",
    "inc += 1\n",
    "print(inc)\n",
    "inc -= 2\n",
    "print(inc)"
   ]
  },
  {
   "cell_type": "markdown",
   "metadata": {},
   "source": [
    "print(\" first one\")"
   ]
  },
  {
   "cell_type": "code",
   "execution_count": 5,
   "metadata": {},
   "outputs": [
    {
     "ename": "SyntaxError",
     "evalue": "invalid syntax (1480295160.py, line 1)",
     "output_type": "error",
     "traceback": [
      "\u001b[1;36m  Cell \u001b[1;32mIn[5], line 1\u001b[1;36m\u001b[0m\n\u001b[1;33m    `jupiter\u001b[0m\n\u001b[1;37m    ^\u001b[0m\n\u001b[1;31mSyntaxError\u001b[0m\u001b[1;31m:\u001b[0m invalid syntax\n"
     ]
    }
   ],
   "source": [
    "`jupiter"
   ]
  },
  {
   "cell_type": "code",
   "execution_count": 3,
   "metadata": {},
   "outputs": [
    {
     "name": "stdout",
     "output_type": "stream",
     "text": [
      "<class 'int'>\n",
      "<class 'float'>\n",
      "<class 'str'>\n"
     ]
    }
   ],
   "source": [
    "var_int = 5\n",
    "var_float = 6.9\n",
    "var_string = \"Jpyter\"\n",
    "\n",
    "print(type(var_int))\n",
    "print(type(var_float))\n",
    "print(type(var_string))"
   ]
  },
  {
   "cell_type": "code",
   "execution_count": 14,
   "metadata": {},
   "outputs": [
    {
     "name": "stdout",
     "output_type": "stream",
     "text": [
      "50\n",
      "30\n",
      "400\n",
      "3.8\n",
      "3\n",
      "64000\n",
      "43\n",
      "1\n"
     ]
    }
   ],
   "source": [
    "n1 = 10\n",
    "n2 = 40\n",
    "n3 = 3\n",
    "n4 = 38\n",
    "\n",
    "print(n1+n2)\n",
    "print(n2-n1)\n",
    "print(n1*n2)\n",
    "print(n4/n1)\n",
    "print(n4//n1)\n",
    "print(n2**n3)\n",
    "print(n2^n3)\n",
    "print(n2%n3)"
   ]
  },
  {
   "cell_type": "code",
   "execution_count": 29,
   "metadata": {},
   "outputs": [
    {
     "name": "stdout",
     "output_type": "stream",
     "text": [
      "square of num is: 25\n",
      "sqr of num:  25\n",
      "Avg of a b c is 15.0\n",
      "farenhite of 10 cel is: 50.0\n",
      "SI is:  600.0\n",
      "dollar equi is: 41.37\n"
     ]
    }
   ],
   "source": [
    "# prog to find square of 5\n",
    "\n",
    "num = 5\n",
    "\n",
    "print(\"square of num is:\", num**2)\n",
    "\n",
    "for i in range(1):\n",
    "    print(\"sqr of num: \", num*num)\n",
    "\n",
    "\n",
    "# prog to find square of 5\n",
    "a = 10\n",
    "b = 15\n",
    "c = 20\n",
    "d,e,f = 10,15,20\n",
    "\n",
    "print(\"Avg of a b c is\", (a+b+c)/3)\n",
    "\n",
    "\n",
    "# prog to convert 10 degree celcius to Farehite\n",
    "\n",
    "cel = 10\n",
    "faren = (9/5)*cel + 32\n",
    "print(\"farenhite of 10 cel is:\", faren)\n",
    "\n",
    "# prog to get SI on p = 1000, roi = 12%, time = 5 year\n",
    "p = 1000; roi = 12; t = 5\n",
    "\n",
    "si = (p*roi*t)/100\n",
    "print(\"SI is: \", si) \n",
    "\n",
    "# Find dollor equi of INR 3484.5 where 1$=84.23\n",
    "inr=3484.5; conv=84.23\n",
    "print(\"dollar equi is:\", round(inr/conv, 2))\n"
   ]
  },
  {
   "cell_type": "code",
   "execution_count": 12,
   "metadata": {},
   "outputs": [
    {
     "name": "stdout",
     "output_type": "stream",
     "text": [
      "s\n",
      "c\n",
      "Data Science\n",
      "Data science\n",
      "12\n",
      "\n",
      "ta s\n",
      "2468\n",
      "13579\n",
      "Data Analysis using Pandas\n"
     ]
    },
    {
     "data": {
      "text/plain": [
       "True"
      ]
     },
     "execution_count": 12,
     "metadata": {},
     "output_type": "execute_result"
    }
   ],
   "source": [
    "# Indexing\n",
    "\n",
    "str = 'data science'\n",
    "print(str[5])\n",
    "print(str[-2])\n",
    "\n",
    "print(str.title())\n",
    "print(str.capitalize())\n",
    "print(len(str))\n",
    "print(str[2:0])\n",
    "print(str[2:6])\n",
    "\n",
    "nums = '123456789'\n",
    "print(nums[1::2])  # printing even number\n",
    "print(nums[0::2])  # printing odd numbers\n",
    "\n",
    "A = 'Data'; B = \"Analysis\"; C = \"Pandas\"\n",
    "print(\"{0} {1} using {2}\".format(A,B,C))\n",
    "\n",
    "str1 = 'road2win'\n",
    "str1.islower()\n"
   ]
  },
  {
   "cell_type": "code",
   "execution_count": 47,
   "metadata": {},
   "outputs": [
    {
     "name": "stdout",
     "output_type": "stream",
     "text": [
      "<class 'int'>\n",
      "<class 'float'>\n",
      "<class 'str'>\n",
      "<class 'float'>\n",
      "<class 'int'>\n",
      "5\n"
     ]
    }
   ],
   "source": [
    "# Data type conversions:\n",
    "#del str\n",
    "\n",
    "a=5\n",
    "print(type(a))\n",
    "print(type(float(a)))\n",
    "a1=str(a)\n",
    "print(type(a1))\n",
    "\n",
    "b = 5.8\n",
    "print(type(b))\n",
    "print(type(int(b)))\n",
    "print(int(b))\n",
    "\n"
   ]
  },
  {
   "cell_type": "code",
   "execution_count": 79,
   "metadata": {},
   "outputs": [
    {
     "name": "stdout",
     "output_type": "stream",
     "text": [
      "['Hi', 'Hi', 'Hi', 'Hi', 'Hi']\n",
      "['Hi', 'Hi']\n",
      "<class 'list'>\n",
      "4\n",
      "3.14 hello\n",
      "['apple', 'orrange', 'banana'] \n",
      " ['dog', 'cat', 'bird']\n",
      "orrange \n",
      " dog \n",
      " dog\n",
      "7 1 7 28 avg: 4.0\n",
      "[1, 2, 3, 4, 5, 6, 7, 10]\n",
      "[0, 1, 2, 3, 4, 5, 6, 7, 10]\n",
      "[0, 1, 2, 3, 4, 5, 15, 6, 7, 10]\n",
      "[0, 1, 2, 3, 4, 5, 6, 7, 10]\n",
      "[10, 7, 6, 5, 4, 3, 2, 1, 0]\n",
      "[10, 7, 6, 5, 4, 3, 2, 1, 0, 15, 18, 20, 25]\n",
      "[10, 7, 6, 5, 4, 3, 2, 1, 0, 15, 18, 20, 25]\n",
      "1\n",
      "[10, 7, 6, 5, 4, 3, 2, 1, 0, 15, 18, 20, 25]\n",
      "10\n",
      "None\n",
      "[25, 20, 18, 15, 0, 1, 2, 3, 4, 5, 6, 7, 10]\n"
     ]
    }
   ],
   "source": [
    "# List\n",
    "\n",
    "list5 = ['Hi']\n",
    "print(list5*5)\n",
    "print(list5 + list5)\n",
    "\n",
    "my_list = [1, 'hello', 3.14, True]\n",
    "print(type(my_list))\n",
    "print(len(my_list))\n",
    "\n",
    "print(my_list[2], my_list[-3])\n",
    "\n",
    "\n",
    "# Nested List:\n",
    "\n",
    "list1 = [[1,2,3], ['apple','orrange', 'banana'],3.14, ['dog','cat','bird']]\n",
    "print(list1[1], '\\n', list1[-1])\n",
    "print(list1[1][1], '\\n', list1[-1][-3], '\\n', list1[-1][0])\n",
    "\n",
    "list2 = [1,2,3,4,5,6,7]\n",
    "print(len(list2), min(list2), max(list2), sum(list2), \"avg:\",sum(list2)/len(list2) )\n",
    "\n",
    "list2.append(10)\n",
    "print(list2)\n",
    "\n",
    "list2.insert(0,0)\n",
    "print(list2)\n",
    "\n",
    "list2.insert(6,15)\n",
    "print(list2)\n",
    "\n",
    "list2.remove(15)\n",
    "print(list2)\n",
    "\n",
    "list2.sort(reverse=True)\n",
    "print(list2)\n",
    "\n",
    "list2.extend([15,18,20,25])   # adds multiple elements at end of list\n",
    "print(list2)\n",
    "\n",
    "# list2.clear()\n",
    "print(list2)\n",
    "\n",
    "print(list2.count(15))\n",
    "\n",
    "#print(list2.pop())                  # removes & returns last element\n",
    "#print(list2.pop())\n",
    "#print(list2.pop(2))                # removes & returns index element\n",
    "print(list2)\n",
    "\n",
    "print(list2.index(18))              # retruns indes of element\n",
    "print(list2.reverse())  \n",
    "print(list2)                      "
   ]
  },
  {
   "cell_type": "code",
   "execution_count": 123,
   "metadata": {},
   "outputs": [
    {
     "name": "stdout",
     "output_type": "stream",
     "text": [
      "<class 'dict'>\n",
      "3\n",
      "dict_keys(['orange', 'apple', 'banana'])\n",
      "dict_values([3, 2, 3])\n",
      "<class 'dict'>\n",
      "dict_keys(['orange', 'apple', 'banana', 'melon', 'kiwi', 'is_fruit'])\n",
      "dict_values([3, 4, 2, {'watermelon': 2, 'muskmelon': 5}, [2, 3, 4], True])\n",
      "3 {'watermelon': 2, 'muskmelon': 5} 5 3\n",
      "Male Karnataka 13134587\n",
      "{'a': 1, 'b': 3, 'd': 6}\n",
      "<break>\n",
      "first_name Diya\n",
      "last_name Kumar\n",
      "age 30\n",
      "gender F\n",
      "phone 87387190\n",
      "is_employed True\n"
     ]
    }
   ],
   "source": [
    "# Dictionary\n",
    "\n",
    "d={\"orange\":3, \"apple\":2, \"banana\": 3}\n",
    "print(type(d))\n",
    "print(len(d))\n",
    "\n",
    "print(d.keys())\n",
    "# strings/integer/float/tuples\n",
    "# keys must be unique, non duplicates - why?\n",
    "\n",
    "print(d.values())\n",
    "# strings/integer/float/boolean/list/dict/tup/set etc\n",
    "\n",
    "d1={\"orange\":3, \"apple\":4, \"banana\":2, \"melon\":{\"watermelon\":2,\"muskmelon\":5} ,\"kiwi\":[2,3,4], \"is_fruit\":True }\n",
    "print(type(d1))\n",
    "print(d1.keys())\n",
    "print(d1.values())\n",
    "print(d1[\"orange\"], d1[\"melon\"], d1[\"melon\"][\"muskmelon\"], d1[\"kiwi\"][1] )\n",
    "\n",
    "person = {'first_name': 'Diya', 'last_name': 'Kumar', 'age': 30, 'gender': 'F', 'phone': 87387190, 'is_employed': True}\n",
    "\n",
    "nested_person = {'first_name': 'Gopal', \n",
    "                 'last_name': 'Verma', 'age': 30, 'gender': 'Male', \n",
    "                 'address': {'street': '2nd Main Road', \n",
    "                             'city': 'Bengaluru', 'state': 'Karnataka', \n",
    "                             'zip_code': 56873}, \n",
    "                 'email': 'gopalverma@upgradlearn.com', 'phone': [21218765, 13134587], \n",
    "                 'is_employed': True}\n",
    "\n",
    "\n",
    "print(nested_person[\"gender\"], nested_person[\"address\"][\"state\"], nested_person['phone'][1])\n",
    "\n",
    "d2={\"a\":1,\"b\":2}\n",
    "d3={\"b\":3,\"d\":4}\n",
    "d2.update(d3)                 # use update() to update dict\n",
    "d2\n",
    "\n",
    "d2[\"d\"] = 6\n",
    "\n",
    "d2\n",
    "\n",
    "#d2.popitem()                  # removes last item\n",
    "d2\n",
    "\n",
    "#d2.clear()                     # clear the dict\n",
    "print(d2)\n",
    "print(\"<break>\")\n",
    "for key,val in person.items():\n",
    "    print(key,val)"
   ]
  },
  {
   "cell_type": "code",
   "execution_count": 76,
   "metadata": {},
   "outputs": [
    {
     "ename": "SyntaxError",
     "evalue": "invalid syntax (1426047603.py, line 38)",
     "output_type": "error",
     "traceback": [
      "\u001b[1;36m  Cell \u001b[1;32mIn[76], line 38\u001b[1;36m\u001b[0m\n\u001b[1;33m    print(s1 U s2)\u001b[0m\n\u001b[1;37m             ^\u001b[0m\n\u001b[1;31mSyntaxError\u001b[0m\u001b[1;31m:\u001b[0m invalid syntax\n"
     ]
    }
   ],
   "source": [
    "# Tuples - () & Set - {}\n",
    "\n",
    "tup = (0,0,0,0,1,2,3,4,4,4,5)\n",
    "print(tup)\n",
    "print(tup.count(4))\n",
    "print(tup.index(5))\n",
    "\n",
    "print(sorted(tup))\n",
    "\n",
    "# updating tupls - changing to list & back to tup\n",
    "ls = list(tup)\n",
    "ls.append(5)\n",
    "\n",
    "tup = tuple(ls)\n",
    "print(tup)\n",
    "\n",
    "\n",
    "# Set - for mathematical use cases:\n",
    "# doesn't maintain order, mutable, not support indexing & slicing, not allow dups\n",
    "\n",
    "s = {0,0,1,2,3,4,4,4,4,5,5}\n",
    "print(s)\n",
    "\n",
    "s.add(9)                # adding value to set\n",
    "print(s)\n",
    "print(9 in s)\n",
    "\n",
    "s1 = set()\n",
    "print(s1)\n",
    "\n",
    "s1 = {1,2,3,4}\n",
    "s2 = {4,5,6,7}\n",
    "\n",
    "print(s1.difference(s2))\n",
    "print(s1.intersection(s2))\n",
    "print(s1|s2)\n",
    "print(s1-s2)\n"
   ]
  },
  {
   "cell_type": "code",
   "execution_count": 104,
   "metadata": {},
   "outputs": [
    {
     "name": "stdout",
     "output_type": "stream",
     "text": [
      "NA\n",
      "{'Name': 'Monty', 'Profession': 'Singer'}\n",
      "['Name', 'Profession']\n",
      "True\n",
      "Apple\n",
      "['Twitter', 'Apple', 'Amazon', 'RJIO']\n",
      "['Jack Dorsey', 'Tim Cook', 'Jeff Bezos', 'Mukesh Ambani']\n",
      "{'Python': 40}\n"
     ]
    }
   ],
   "source": [
    "l = ['1','2','3','4']\n",
    "\n",
    "l[:]\n",
    "\n",
    "input_dict={'Name': 'Monty', 'Profession': 'Singer' }\n",
    "ans = input_dict.get('Label', 'NA')\n",
    "print(ans)\n",
    "print(input_dict)\n",
    "print(list(input_dict.keys()))\n",
    "print('Name' in input_dict)\n",
    "\n",
    "dict1 = {'Jack Dorsey': 'Twitter', 'Tim Cook': 'Apple','Jeff Bezos': 'Amazon','Mukesh Ambani': 'RJIO'}\n",
    "print(dict1['Tim Cook'])\n",
    "print(list(dict1.values()))\n",
    "print(list(dict1))\n",
    "\n",
    "d2 = {'a':1, 'b':2}\n",
    "d2\n",
    "\n",
    "dict_1 = {\"Python\":40, \"R\":45}\n",
    "del dict_1['R']\n",
    "print(dict_1)\n",
    "\n"
   ]
  },
  {
   "cell_type": "code",
   "execution_count": 105,
   "metadata": {},
   "outputs": [
    {
     "name": "stdout",
     "output_type": "stream",
     "text": [
      "{1}\n",
      "{1, 7, 8, 9}\n"
     ]
    }
   ],
   "source": [
    "list_1 = [1,2,3,4,5,6]\n",
    "list_2 = [2,3,4,5,6,7,8,9]\n",
    "\n",
    "set_1 = set(list_1)#Type your answer here\n",
    "set_2 = set(list_2)#Type your answer here\n",
    "answer_1 = set_1.difference(set_2)#Type your answer here\n",
    "answer_2 = set_1.symmetric_difference(set_2)#Type your answer here\n",
    "\n",
    "print(answer_1)\n",
    "print(answer_2)"
   ]
  },
  {
   "cell_type": "code",
   "execution_count": 127,
   "metadata": {},
   "outputs": [
    {
     "name": "stdout",
     "output_type": "stream",
     "text": [
      "A\n",
      "YES\n",
      "B\n",
      "0\n",
      "1\n",
      "2\n",
      "None\n",
      "None\n",
      "None\n"
     ]
    }
   ],
   "source": [
    "# Control stmts:\n",
    "import string\n",
    "\n",
    "input_str = 'Alpha'\n",
    "print(input_str[0].upper())\n",
    "\n",
    "if (input_str[0].upper()) == 'A' or (input_str[0].upper()) == 'E' or (input_str[0].upper()) == 'I' or (input_str[0].upper()) == 'O' or (input_str[0].upper()) == 'U':\n",
    "    print('YES')\n",
    "else:\n",
    "    print(\"NO\")\n",
    "\n",
    "if True or True:\n",
    "    if False and True or False:\n",
    "        print('A')\n",
    "    elif False and False or True and True:\n",
    "        print('B')\n",
    "    else:\n",
    "        print('C')\n",
    "else:\n",
    "    print('D')\n",
    "\n",
    "d = {0: 'Fish', 1: 'Bird', 2: 'Mammal'}\n",
    "for i in d:\n",
    "    print(i)\n",
    "\n",
    "d1 = {0, 1, 2}\n",
    "for x in d1:\n",
    "    print(d1.add(x))\n"
   ]
  },
  {
   "cell_type": "code",
   "execution_count": 119,
   "metadata": {},
   "outputs": [
    {
     "name": "stdout",
     "output_type": "stream",
     "text": [
      "1\n",
      "2\n",
      "3\n",
      "4\n",
      "<break>\n",
      "1\n",
      "3\n",
      "5\n",
      "7\n",
      "9\n",
      "A\n",
      "l\n",
      "p\n",
      "h\n",
      "a\n",
      "A 0\n",
      "l 1\n",
      "p 2\n",
      "h 3\n",
      "a 4\n"
     ]
    }
   ],
   "source": [
    "# Loops:\n",
    "# For loop:\n",
    "\n",
    "for i in range(1,5):\n",
    "    print(i)\n",
    "print(\"<break>\")\n",
    "for i in range(1,10,2):\n",
    "    print(i)\n",
    "\n",
    "for word in input_str:\n",
    "    print(word)\n",
    "\n",
    "for n,word in enumerate(input_str):\n",
    "    print(word, n)"
   ]
  },
  {
   "cell_type": "code",
   "execution_count": 136,
   "metadata": {},
   "outputs": [
    {
     "name": "stdout",
     "output_type": "stream",
     "text": [
      "1  is not divisible by 3\n",
      "2  is not divisible by 3\n",
      "3  is Divisible by 3\n",
      "3  is not divisible by 3\n",
      "4  is not divisible by 3\n",
      "5  is not divisible by 3\n"
     ]
    }
   ],
   "source": [
    "\n",
    "\n",
    "for i in range(1,6):\n",
    "    if (i % 3 == 0):\n",
    "        print(i,  \" is Divisible by 3\")\n",
    "        pass        #break continue pass\n",
    "\n",
    "    print(i , \" is not divisible by 3\")"
   ]
  },
  {
   "cell_type": "code",
   "execution_count": 147,
   "metadata": {},
   "outputs": [
    {
     "name": "stdout",
     "output_type": "stream",
     "text": [
      "[1, 4, 9, 16, 25, 36, 49, 64]\n",
      "[1, 4, 9, 16, 25, 36, 49, 64]\n",
      "{0: 0, 1: 1, 2: 4, 3: 9, 4: 16, 5: 25, 6: 36, 7: 49}\n",
      "factorial of 5 is: 120\n",
      "(1, 2, 3, 4, 5)\n",
      "15\n",
      "lambda expamle: 12\n",
      "3\n",
      "1413153198464\n",
      "1413153198464\n"
     ]
    },
    {
     "data": {
      "text/plain": [
       "9996"
      ]
     },
     "execution_count": 147,
     "metadata": {},
     "output_type": "execute_result"
    }
   ],
   "source": [
    "# Comprehensions:\n",
    "\n",
    "sq_list = []\n",
    "for i in range(1, 9):\n",
    "    sq_list.append(i**2)\n",
    "print(sq_list)\n",
    "\n",
    "# using list comprehensions:\n",
    "sq_list1 = [] \n",
    "sq_list1 = [x**2 for x in range(1,9)]\n",
    "print(sq_list1)\n",
    "\n",
    "sq_dict = {num: num**2 for num in range(0,8)}\n",
    "print(sq_dict)\n",
    "\n",
    "\n",
    "# Functions:\n",
    "\n",
    "def fact(n):\n",
    "    if n > 1:\n",
    "        m = n * fact(n-1)\n",
    "        return(m)\n",
    "    else:\n",
    "        return n\n",
    "\n",
    "print(\"factorial of 5 is:\", fact(5))\n",
    "\n",
    "def sum1(*args):\n",
    "    print(args)\n",
    "    return(sum(args))\n",
    "\n",
    "print(sum1(1,2,3,4,5))\n",
    "\n",
    "product = lambda x,y : x*y\n",
    "print(\"lambda expamle:\", product(3,4))\n",
    "\n",
    "a = 2; b = 3\n",
    "greater = lambda a,b : a if a > b else b\n",
    "print(greater(a,b))\n",
    "\n",
    "a1 = [1, 2, 3]\n",
    "b1 = a1\n",
    "print(id(a1))  # Outputs the unique identifier for the list object\n",
    "print(id(b1))  # Outputs the same identifier as a, since b references the same object\n",
    "\n",
    "min = (lambda x, y: x if x < y else y)\n",
    "min(101*99, 102*98)"
   ]
  },
  {
   "cell_type": "code",
   "execution_count": 201,
   "metadata": {},
   "outputs": [
    {
     "name": "stdout",
     "output_type": "stream",
     "text": [
      "<map object at 0x0000014906961FD0>\n",
      "[4, 16, 25]\n",
      "['Nikola Tesla', 'Albert Einstein', 'James Watt']\n",
      "[3, 6, 9]\n",
      "6\n",
      "94\n",
      "(<function <lambda> at 0x00000149067E3670>, [22, 45, 32, 20, 87, 94, 30])\n"
     ]
    }
   ],
   "source": [
    "# Map, Filter & Reduce\n",
    "# sqre the num in list\n",
    "\n",
    "list1 = [2,4,5]\n",
    "print(map(lambda x: x**2, list1))\n",
    "print(list(map(lambda x: x**2, list1)))\n",
    "\n",
    "def sqrt(n):\n",
    "    return n**2\n",
    "\n",
    "#print(list(map(sqrt, list1)))\n",
    "\n",
    "list11 = ['nikola', 'albert', 'james']\n",
    "list22 = ['tesla', 'einstein', 'watt']\n",
    "\n",
    "proper = lambda x,y : x[0].upper()+x[1:]+' '+y[0].upper()+y[1:]\n",
    "print(list(map(proper, list11, list22)))\n",
    "\n",
    "\n",
    "# Filter:\n",
    "divby3 = lambda x: x%3==0\n",
    "list2 = [3,4,5,6,7,8,9]\n",
    "div = filter(divby3, list2)\n",
    "print(list(div))\n",
    "\n",
    "# Reduce:\n",
    "from functools import reduce\n",
    "q = reduce(lambda x,y: x+y, range(1,4))\n",
    "print(q)\n",
    "\n",
    "list33 = [22,45,32,20,87,94,30]\n",
    "print(reduce(lambda x,y: x if x>y else y, list33))\n",
    "p = lambda x,y: x if x>y else y, list33\n",
    "print(p)\n"
   ]
  },
  {
   "cell_type": "code",
   "execution_count": 177,
   "metadata": {},
   "outputs": [
    {
     "name": "stdout",
     "output_type": "stream",
     "text": [
      "3\n"
     ]
    }
   ],
   "source": [
    "list2 = ['San Jose', 'San Francisco', 'Santa Fe', 'Houston']  #['sam', 'sun', 'mon']\n",
    "a = 0\n",
    "\n",
    "def cnt(n1):\n",
    "    #n1 = n.str()\n",
    "    a=0\n",
    "    print(n1[0])\n",
    "    if n1[0].upper() == 'S':\n",
    "        a = a+1\n",
    "        print(a)\n",
    "        return(a)\n",
    "    else:\n",
    "        return 0\n",
    "\n",
    "def cnt2(n2):\n",
    "    if n2.startswith('S') == True:\n",
    "        return 1\n",
    "    else:\n",
    "        return 0\n",
    "    \n",
    "count = list(map(cnt2, list2))   \n",
    "print(sum(count))"
   ]
  },
  {
   "cell_type": "code",
   "execution_count": 228,
   "metadata": {},
   "outputs": [
    {
     "name": "stdout",
     "output_type": "stream",
     "text": [
      "3\n",
      "<class 'int'>\n",
      "<class 'function'>\n",
      "['nikola tesla', 'albert einstein', 'james watt']\n",
      "[5, 10, 15, 20, 25, 30, 35, 40, 45, 50]\n",
      "['salsap']\n",
      "I Love Python\n",
      "1\n",
      "love love\n",
      "[1, 2, 3, 1, 2, 3]\n",
      "[1, 4, 9]\n",
      "[[7, 8, 9, 10]]\n",
      "1\n",
      "2\n",
      "3\n",
      "15\n",
      "21\n",
      "[None, None, None, None]\n",
      "[1, 2, 3, 4]\n",
      "24\n"
     ]
    }
   ],
   "source": [
    "list11 = ['nikola', 'albert', 'james']\n",
    "list22 = ['tesla', 'einstein', 'watt']\n",
    "\n",
    "\n",
    "\n",
    "print(len(list11))\n",
    "print(type(len(list11)))\n",
    "\n",
    "full = lambda x,y : x[:] + \" \" +y[:] \n",
    "#full = lambda x,y : [x[:] + \" \" +y[:] for i in range(len(list11))]\n",
    "print(type(full))\n",
    "print(list(map(full, list11,list22)))\n",
    "\n",
    "#Extract a list of numbers that are multiples of 5 from a list of integers named input_list.\n",
    "list33 = [1, 2, 3, 4, 5, 6, 7, 8, 9, 10, 11, 12, 13, 14, 15, 16, 17, 18, 19, 20, 21, 22, 23, 24, 25, 26, 27, 28, 29, 30, 31, 32, 33, 34, 35, 36, 37, 38, 39, 40, 41, 42, 43, 44, 45, 46, 47, 48, 49, 50]\n",
    "divby5 = lambda x: x%5==0\n",
    "print(list(filter(divby5, list33)))\n",
    "\n",
    "#Extract a list of names that start with an ‘s’ and end with a ‘p’ (both 's' and 'p' are lowercase) in input_list.\n",
    "list44 = ['hdjk', 'salsap', 'sherpa']\n",
    "\n",
    "rl = lambda x: x[0].lower() == 's' and x[-1].lower() == 'p'\n",
    "print(list(filter(rl, list44)))\n",
    "\n",
    "\n",
    "#Using the Reduce function, concatenate a list of words in input_list, and print the output as a string.\n",
    "#If input_list = ['I','Love','Python'], the output should be the string 'I Love Python'.\n",
    "input_list = ['I','Love','Python']\n",
    "red = reduce(lambda x,y: x+\" \"+y, input_list )\n",
    "print(red)\n",
    "\n",
    "print(((500//7) % 5) ** 3)\n",
    "S = 'I love Python'\n",
    "print(S[-11:-7], S[2:6])\n",
    "\n",
    "L = [1, 2, 3]\n",
    "print(L*2)\n",
    "print(list(map(lambda x: x**2, L)))\n",
    "\n",
    "L = [[1, 2, 3], [4, 5, 6], [7, 8, 9, 10]]\n",
    "print(L[2: ])\n",
    "\n",
    "D = {1:['Raj', 22], 2:['Simran', 21], 3:['Rahul', 40]}\n",
    "for val in D:\n",
    "     print(val)\n",
    "\n",
    "def my_func(*args):\n",
    "    return(sum(args))\n",
    "\n",
    "print(my_func(1,2,3,4,5))\n",
    "print(my_func(6,7,8))\n",
    "\n",
    "# Factorial with using reduce()\n",
    "num = 5\n",
    "list5 = []\n",
    "list55 = lambda: [list5.append(i) for i in range(1, num)]\n",
    "#list55 = lambda: [list5.append(i) for i in range(1, num)]\n",
    "\n",
    "print(list55())\n",
    "print(list5)\n",
    "ans1 = reduce(lambda x,y: x*y, list5)\n",
    "print(ans1)"
   ]
  },
  {
   "cell_type": "code",
   "execution_count": 253,
   "metadata": {},
   "outputs": [
    {
     "name": "stdout",
     "output_type": "stream",
     "text": [
      "[1, 2, 3, 4, 5, 6, 7, 8, 9, 10, 11, 12, 13, 14, 15, 16, 17, 18, 19, 20]\n",
      "[2, 5, 9, 12, 13, 15, 16, 17, 18, 19] \n",
      " [2, 4, 5, 6, 7, 9, 13, 16] \n",
      " [1, 2, 5, 9, 10, 11, 12, 13, 15]\n",
      "Students who play all the three sports: [2, 5, 9, 13]\n",
      "Students who play both cricket and football but don’t play hockey: [16]\n",
      "Students who play exactly two of the sports: [12, 15, 16]\n",
      "Students who don’t play any of the three sports: [3, 8, 14, 20]\n"
     ]
    }
   ],
   "source": [
    "#[[2, 5, 9, 12, 13, 15, 16, 17, 18, 19], [2, 4, 5, 6, 7, 9, 13, 16], [1, 2, 5, 9, 10, 11, 12, 13, 15]]\n",
    "\n",
    "C = [2, 5, 9, 12, 13, 15, 16, 17, 19, 18]\n",
    "F = [2, 4, 5, 6, 7, 9, 16, 13]\n",
    "H = [1, 2, 5, 9, 10, 11, 12, 15, 13]\n",
    "A = []\n",
    "for i in range(1,21):\n",
    "    A.append(i)\n",
    "\n",
    "print(A)\n",
    "\n",
    "C.sort()\n",
    "F.sort()\n",
    "H.sort()\n",
    "\n",
    "print(C, \"\\n\", F, \"\\n\", H)\n",
    "\n",
    "c_set = set(C)\n",
    "f_set = set(F)\n",
    "h_set = set(H)\n",
    "a_set = set(A)\n",
    "\n",
    "ans1 = c_set & f_set & h_set\n",
    "ans2 = (c_set & f_set) - h_set\n",
    "ans3 = ((c_set & f_set) - h_set) | ((c_set & h_set) - f_set) | (h_set & f_set) - c_set\n",
    "ans4 = a_set - (c_set | f_set | h_set) \n",
    "#c_set.intersection(f_set).inetrsection(h_set)\n",
    "\n",
    "\n",
    "print(\"Students who play all the three sports:\", sorted(ans1))\n",
    "print(\"Students who play both cricket and football but don’t play hockey:\", sorted(ans2))\n",
    "print(\"Students who play exactly two of the sports:\", sorted(ans3))\n",
    "print(\"Students who don’t play any of the three sports:\", sorted(ans4))"
   ]
  }
 ],
 "metadata": {
  "kernelspec": {
   "display_name": "Python 3",
   "language": "python",
   "name": "python3"
  },
  "language_info": {
   "codemirror_mode": {
    "name": "ipython",
    "version": 3
   },
   "file_extension": ".py",
   "mimetype": "text/x-python",
   "name": "python",
   "nbconvert_exporter": "python",
   "pygments_lexer": "ipython3",
   "version": "3.8.10"
  }
 },
 "nbformat": 4,
 "nbformat_minor": 2
}
